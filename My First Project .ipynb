{
 "cells": [
  {
   "cell_type": "markdown",
   "metadata": {},
   "source": [
    "## My First Project"
   ]
  },
  {
   "cell_type": "code",
   "execution_count": 5,
   "metadata": {},
   "outputs": [
    {
     "name": "stdout",
     "output_type": "stream",
     "text": [
      "******************************\n",
      "DATA INPUTAN\n",
      "NIS : 11800386\n",
      "Nama : Mochammad Adlan Dzil Ikram\n",
      "JK : L\n",
      "Rombel : RPL XI-1\n",
      "Nilai B.Indonesia : 90\n",
      "Nilai Matematika : 80\n",
      "Nilai B.Inggris : 95\n",
      "******************************\n",
      "LAPORAN NILAI AKHIR SEMESTER\n",
      "SMK WIKRAMA BOGOR\n",
      "--------DATA DIRI--------\n",
      "NIS                :  11800386\n",
      "Nama               :  Mochammad Adlan Dzil Ikram\n",
      "JK                 :  L\n",
      "Rombel             :  RPL XI-1\n",
      "Rayon              :  Rayon : \n",
      "--------NILAI--------\n",
      "Nilai B.Indonesia  : 90\n",
      "Nilai Matematika   : 80\n",
      "Nilai B.Inggris    : 95\n",
      "Rata-Rata Nilai    : 88.33333333333333\n",
      "Kriteria           : LULUS\n"
     ]
    }
   ],
   "source": [
    "print(\"*\"*30)\n",
    "print(\"DATA INPUTAN\")\n",
    "\n",
    "nis = input(\"NIS : \")\n",
    "nama = input(\"Nama : \")\n",
    "jk = input(\"JK : \")\n",
    "rombel = input(\"Rombel : \")\n",
    "rayon = (\"Rayon : \")\n",
    "bind = int(input(\"Nilai B.Indonesia : \"))\n",
    "mtk = int(input(\"Nilai Matematika : \"))\n",
    "bing = int(input(\"Nilai B.Inggris : \"))\n",
    "\n",
    "print(\"*\"*30)\n",
    "print(\"LAPORAN NILAI AKHIR SEMESTER\")\n",
    "print(\"SMK WIKRAMA BOGOR\")\n",
    "print(\"--------DATA DIRI--------\")\n",
    "\n",
    "print(\"NIS                : \",nis)\n",
    "print(\"Nama               : \",nama)\n",
    "print(\"JK                 : \",jk)\n",
    "print(\"Rombel             : \",rombel)\n",
    "print(\"Rayon              : \",rayon)\n",
    "\n",
    "print(\"--------NILAI--------\")\n",
    "print(\"Nilai B.Indonesia  :\",bind)\n",
    "print(\"Nilai Matematika   :\",mtk)\n",
    "print(\"Nilai B.Inggris    :\",bing)\n",
    "\n",
    "rata2 = (bind+mtk+bing)/3\n",
    "print(\"Rata-Rata Nilai    :\",rata2)\n",
    "if rata2 >= 75:\n",
    "    print(\"Kriteria           : LULUS\")\n",
    "else:\n",
    "    print(\"Kriteria           : TIDAK LULUS\")\n"
   ]
  },
  {
   "cell_type": "code",
   "execution_count": null,
   "metadata": {},
   "outputs": [],
   "source": []
  }
 ],
 "metadata": {
  "kernelspec": {
   "display_name": "Python 3",
   "language": "python",
   "name": "python3"
  },
  "language_info": {
   "codemirror_mode": {
    "name": "ipython",
    "version": 3
   },
   "file_extension": ".py",
   "mimetype": "text/x-python",
   "name": "python",
   "nbconvert_exporter": "python",
   "pygments_lexer": "ipython3",
   "version": "3.7.1"
  }
 },
 "nbformat": 4,
 "nbformat_minor": 2
}
